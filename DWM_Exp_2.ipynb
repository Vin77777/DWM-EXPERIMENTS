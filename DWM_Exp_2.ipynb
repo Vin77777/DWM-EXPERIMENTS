{
  "nbformat": 4,
  "nbformat_minor": 0,
  "metadata": {
    "colab": {
      "provenance": []
    },
    "kernelspec": {
      "name": "python3",
      "display_name": "Python 3"
    },
    "language_info": {
      "name": "python"
    }
  },
  "cells": [
    {
      "cell_type": "code",
      "execution_count": 2,
      "metadata": {
        "colab": {
          "base_uri": "https://localhost:8080/"
        },
        "id": "V6GbNJjLGEOq",
        "outputId": "f94e0594-03d0-4e8d-da8d-77c27288c0b4"
      },
      "outputs": [
        {
          "output_type": "stream",
          "name": "stdout",
          "text": [
            "Original Data:\n",
            "   Year Quarter  Region Product  Sales\n",
            "0  2022      Q1    Asia  Laptop    200\n",
            "1  2022      Q2  Europe  Laptop    150\n",
            "2  2022      Q3    Asia  Mobile    300\n",
            "3  2023      Q1  Europe  Mobile    250\n",
            "4  2023      Q2    Asia  Laptop    400\n",
            "5  2023      Q3  Europe  Mobile    100\n"
          ]
        }
      ],
      "source": [
        "import pandas as pd\n",
        "\n",
        "data = {\n",
        "    'Year': ['2022', '2022', '2022', '2023', '2023', '2023'],\n",
        "    'Quarter': ['Q1', 'Q2', 'Q3', 'Q1', 'Q2', 'Q3'],\n",
        "    'Region': ['Asia', 'Europe', 'Asia', 'Europe', 'Asia', 'Europe'],\n",
        "    'Product': ['Laptop', 'Laptop', 'Mobile', 'Mobile', 'Laptop', 'Mobile'],\n",
        "    'Sales': [200, 150, 300, 250, 400, 100]\n",
        "}\n",
        "\n",
        "df = pd.DataFrame(data)\n",
        "print(\"Original Data:\")\n",
        "print(df)"
      ]
    },
    {
      "cell_type": "code",
      "source": [
        "slice_df = df[df['Year'] == '2023']\n",
        "print(\"\\nSlice Operation (Year = 2023):\")\n",
        "print(slice_df)"
      ],
      "metadata": {
        "colab": {
          "base_uri": "https://localhost:8080/"
        },
        "id": "U6IAKsb1GbOl",
        "outputId": "ae233464-9b2f-489c-9eb5-5a8f333a49c9"
      },
      "execution_count": 3,
      "outputs": [
        {
          "output_type": "stream",
          "name": "stdout",
          "text": [
            "\n",
            "Slice Operation (Year = 2023):\n",
            "   Year Quarter  Region Product  Sales\n",
            "3  2023      Q1  Europe  Mobile    250\n",
            "4  2023      Q2    Asia  Laptop    400\n",
            "5  2023      Q3  Europe  Mobile    100\n"
          ]
        }
      ]
    },
    {
      "cell_type": "code",
      "source": [
        "dice_df = df[(df['Year'].isin(['2022', '2023'])) & (df['Region'] == 'Asia')]\n",
        "print(\"\\nDice Operation (Year in ['2022', '2023'] AND Region = 'Asia'):\")\n",
        "print(dice_df)"
      ],
      "metadata": {
        "colab": {
          "base_uri": "https://localhost:8080/"
        },
        "id": "n7ZfgrKkGia9",
        "outputId": "830ead46-b8cd-4ec2-853a-3b4a8bc53e65"
      },
      "execution_count": 4,
      "outputs": [
        {
          "output_type": "stream",
          "name": "stdout",
          "text": [
            "\n",
            "Dice Operation (Year in ['2022', '2023'] AND Region = 'Asia'):\n",
            "   Year Quarter Region Product  Sales\n",
            "0  2022      Q1   Asia  Laptop    200\n",
            "2  2022      Q3   Asia  Mobile    300\n",
            "4  2023      Q2   Asia  Laptop    400\n"
          ]
        }
      ]
    },
    {
      "cell_type": "code",
      "source": [
        "rollup_df = df.groupby('Year')['Sales'].sum().reset_index()\n",
        "print(\"\\nRoll-up Operation (Sales by Year):\")\n",
        "print(rollup_df)"
      ],
      "metadata": {
        "colab": {
          "base_uri": "https://localhost:8080/"
        },
        "id": "AkWXXgiwGkT1",
        "outputId": "8620a756-b578-48b9-efb8-c93f7034a484"
      },
      "execution_count": 5,
      "outputs": [
        {
          "output_type": "stream",
          "name": "stdout",
          "text": [
            "\n",
            "Roll-up Operation (Sales by Year):\n",
            "   Year  Sales\n",
            "0  2022    650\n",
            "1  2023    750\n"
          ]
        }
      ]
    },
    {
      "cell_type": "code",
      "source": [
        "drilldown_df = df.groupby(['Year', 'Quarter'])['Sales'].sum().reset_index()\n",
        "print(\"\\nDrill-down Operation (Sales by Year and Quarter):\")\n",
        "print(drilldown_df)"
      ],
      "metadata": {
        "colab": {
          "base_uri": "https://localhost:8080/"
        },
        "id": "hLmLm7TnGmR9",
        "outputId": "ffaf1456-ed2b-4db5-9855-52e5f18387fa"
      },
      "execution_count": 6,
      "outputs": [
        {
          "output_type": "stream",
          "name": "stdout",
          "text": [
            "\n",
            "Drill-down Operation (Sales by Year and Quarter):\n",
            "   Year Quarter  Sales\n",
            "0  2022      Q1    200\n",
            "1  2022      Q2    150\n",
            "2  2022      Q3    300\n",
            "3  2023      Q1    250\n",
            "4  2023      Q2    400\n",
            "5  2023      Q3    100\n"
          ]
        }
      ]
    },
    {
      "cell_type": "code",
      "source": [
        "pivot_df = pd.pivot_table(df, values='Sales', index='Product', columns='Region', aggfunc='sum')\n",
        "print(\"\\nPivot Operation (Product vs Region):\")\n",
        "print(pivot_df)"
      ],
      "metadata": {
        "colab": {
          "base_uri": "https://localhost:8080/"
        },
        "id": "h7DDqF1-GoZN",
        "outputId": "dd19fbf8-a659-4fd2-b9de-c20c76c34724"
      },
      "execution_count": 7,
      "outputs": [
        {
          "output_type": "stream",
          "name": "stdout",
          "text": [
            "\n",
            "Pivot Operation (Product vs Region):\n",
            "Region   Asia  Europe\n",
            "Product              \n",
            "Laptop    600     150\n",
            "Mobile    300     350\n"
          ]
        }
      ]
    }
  ]
}